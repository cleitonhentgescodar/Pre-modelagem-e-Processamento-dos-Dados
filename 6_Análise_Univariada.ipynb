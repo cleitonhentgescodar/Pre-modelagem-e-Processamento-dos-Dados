{
  "nbformat": 4,
  "nbformat_minor": 0,
  "metadata": {
    "colab": {
      "provenance": [],
      "toc_visible": true
    },
    "kernelspec": {
      "name": "python3",
      "display_name": "Python 3"
    },
    "language_info": {
      "name": "python"
    }
  },
  "cells": [
    {
      "cell_type": "code",
      "execution_count": null,
      "metadata": {
        "id": "5ltQXeGShZfj"
      },
      "outputs": [],
      "source": [
        "import seaborn as sns\n",
        "import matplotlib.pyplot as plt\n",
        "import pandas as pd\n",
        "import numpy as np"
      ]
    },
    {
      "cell_type": "markdown",
      "source": [
        "# Análise Univariada\n"
      ],
      "metadata": {
        "id": "9fMUST9FiD-A"
      }
    },
    {
      "cell_type": "code",
      "source": [
        "# Carregar data frame\n",
        "df = pd.read_csv(\"/content/CHURN_CREDIT_MOD14_cleaned.csv\", delimiter=',')\n",
        "\n",
        "df.head(10)"
      ],
      "metadata": {
        "id": "8rK3qtkAhmt1",
        "colab": {
          "base_uri": "https://localhost:8080/",
          "height": 383
        },
        "outputId": "6a243666-3a53-4c09-e715-d537280b4df9"
      },
      "execution_count": null,
      "outputs": [
        {
          "output_type": "execute_result",
          "data": {
            "text/plain": [
              "   Credit_Score   Pais  Genero  Idade  Tempo_Credito    Balanco  Qtd_Produtos  \\\n",
              "0           677  SPAIN    Male   18.0              5  134796.87             2   \n",
              "1           644  SPAIN  Female   18.0              7       0.00             1   \n",
              "2           641  SPAIN    Male   18.0              1       0.00             2   \n",
              "3           826  SPAIN    Male   18.0              2       0.00             2   \n",
              "4           774  SPAIN  Female   18.0              1  185891.54             1   \n",
              "5           688  SPAIN  Female   18.0              2       0.00             2   \n",
              "6           803  SPAIN    Male   18.0              6       0.00             1   \n",
              "7           578  SPAIN  Female   18.0              8   71843.15             2   \n",
              "8           598  SPAIN    Male   18.0              6       0.00             2   \n",
              "9           624  SPAIN  Female   18.0              6       0.00             2   \n",
              "\n",
              "   Possui_Cartao  Membro_Ativo  Salario_Anual  Churn  \n",
              "0            1.0           0.0      1011688.0      0  \n",
              "1            0.0           1.0      1011688.0      0  \n",
              "2            0.0           1.0      1011688.0      0  \n",
              "3            0.0           1.0      1011688.0      0  \n",
              "4            1.0           0.0      1011688.0      0  \n",
              "5            1.0           0.0      1011688.0      0  \n",
              "6            0.0           0.0      1011688.0      1  \n",
              "7            0.0           1.0      1011688.0      0  \n",
              "8            0.0           1.0      1011688.0      0  \n",
              "9            0.0           1.0      1011688.0      0  "
            ],
            "text/html": [
              "\n",
              "  <div id=\"df-6f5872e7-24c1-4ecb-8819-e3d20942ce85\" class=\"colab-df-container\">\n",
              "    <div>\n",
              "<style scoped>\n",
              "    .dataframe tbody tr th:only-of-type {\n",
              "        vertical-align: middle;\n",
              "    }\n",
              "\n",
              "    .dataframe tbody tr th {\n",
              "        vertical-align: top;\n",
              "    }\n",
              "\n",
              "    .dataframe thead th {\n",
              "        text-align: right;\n",
              "    }\n",
              "</style>\n",
              "<table border=\"1\" class=\"dataframe\">\n",
              "  <thead>\n",
              "    <tr style=\"text-align: right;\">\n",
              "      <th></th>\n",
              "      <th>Credit_Score</th>\n",
              "      <th>Pais</th>\n",
              "      <th>Genero</th>\n",
              "      <th>Idade</th>\n",
              "      <th>Tempo_Credito</th>\n",
              "      <th>Balanco</th>\n",
              "      <th>Qtd_Produtos</th>\n",
              "      <th>Possui_Cartao</th>\n",
              "      <th>Membro_Ativo</th>\n",
              "      <th>Salario_Anual</th>\n",
              "      <th>Churn</th>\n",
              "    </tr>\n",
              "  </thead>\n",
              "  <tbody>\n",
              "    <tr>\n",
              "      <th>0</th>\n",
              "      <td>677</td>\n",
              "      <td>SPAIN</td>\n",
              "      <td>Male</td>\n",
              "      <td>18.0</td>\n",
              "      <td>5</td>\n",
              "      <td>134796.87</td>\n",
              "      <td>2</td>\n",
              "      <td>1.0</td>\n",
              "      <td>0.0</td>\n",
              "      <td>1011688.0</td>\n",
              "      <td>0</td>\n",
              "    </tr>\n",
              "    <tr>\n",
              "      <th>1</th>\n",
              "      <td>644</td>\n",
              "      <td>SPAIN</td>\n",
              "      <td>Female</td>\n",
              "      <td>18.0</td>\n",
              "      <td>7</td>\n",
              "      <td>0.00</td>\n",
              "      <td>1</td>\n",
              "      <td>0.0</td>\n",
              "      <td>1.0</td>\n",
              "      <td>1011688.0</td>\n",
              "      <td>0</td>\n",
              "    </tr>\n",
              "    <tr>\n",
              "      <th>2</th>\n",
              "      <td>641</td>\n",
              "      <td>SPAIN</td>\n",
              "      <td>Male</td>\n",
              "      <td>18.0</td>\n",
              "      <td>1</td>\n",
              "      <td>0.00</td>\n",
              "      <td>2</td>\n",
              "      <td>0.0</td>\n",
              "      <td>1.0</td>\n",
              "      <td>1011688.0</td>\n",
              "      <td>0</td>\n",
              "    </tr>\n",
              "    <tr>\n",
              "      <th>3</th>\n",
              "      <td>826</td>\n",
              "      <td>SPAIN</td>\n",
              "      <td>Male</td>\n",
              "      <td>18.0</td>\n",
              "      <td>2</td>\n",
              "      <td>0.00</td>\n",
              "      <td>2</td>\n",
              "      <td>0.0</td>\n",
              "      <td>1.0</td>\n",
              "      <td>1011688.0</td>\n",
              "      <td>0</td>\n",
              "    </tr>\n",
              "    <tr>\n",
              "      <th>4</th>\n",
              "      <td>774</td>\n",
              "      <td>SPAIN</td>\n",
              "      <td>Female</td>\n",
              "      <td>18.0</td>\n",
              "      <td>1</td>\n",
              "      <td>185891.54</td>\n",
              "      <td>1</td>\n",
              "      <td>1.0</td>\n",
              "      <td>0.0</td>\n",
              "      <td>1011688.0</td>\n",
              "      <td>0</td>\n",
              "    </tr>\n",
              "    <tr>\n",
              "      <th>5</th>\n",
              "      <td>688</td>\n",
              "      <td>SPAIN</td>\n",
              "      <td>Female</td>\n",
              "      <td>18.0</td>\n",
              "      <td>2</td>\n",
              "      <td>0.00</td>\n",
              "      <td>2</td>\n",
              "      <td>1.0</td>\n",
              "      <td>0.0</td>\n",
              "      <td>1011688.0</td>\n",
              "      <td>0</td>\n",
              "    </tr>\n",
              "    <tr>\n",
              "      <th>6</th>\n",
              "      <td>803</td>\n",
              "      <td>SPAIN</td>\n",
              "      <td>Male</td>\n",
              "      <td>18.0</td>\n",
              "      <td>6</td>\n",
              "      <td>0.00</td>\n",
              "      <td>1</td>\n",
              "      <td>0.0</td>\n",
              "      <td>0.0</td>\n",
              "      <td>1011688.0</td>\n",
              "      <td>1</td>\n",
              "    </tr>\n",
              "    <tr>\n",
              "      <th>7</th>\n",
              "      <td>578</td>\n",
              "      <td>SPAIN</td>\n",
              "      <td>Female</td>\n",
              "      <td>18.0</td>\n",
              "      <td>8</td>\n",
              "      <td>71843.15</td>\n",
              "      <td>2</td>\n",
              "      <td>0.0</td>\n",
              "      <td>1.0</td>\n",
              "      <td>1011688.0</td>\n",
              "      <td>0</td>\n",
              "    </tr>\n",
              "    <tr>\n",
              "      <th>8</th>\n",
              "      <td>598</td>\n",
              "      <td>SPAIN</td>\n",
              "      <td>Male</td>\n",
              "      <td>18.0</td>\n",
              "      <td>6</td>\n",
              "      <td>0.00</td>\n",
              "      <td>2</td>\n",
              "      <td>0.0</td>\n",
              "      <td>1.0</td>\n",
              "      <td>1011688.0</td>\n",
              "      <td>0</td>\n",
              "    </tr>\n",
              "    <tr>\n",
              "      <th>9</th>\n",
              "      <td>624</td>\n",
              "      <td>SPAIN</td>\n",
              "      <td>Female</td>\n",
              "      <td>18.0</td>\n",
              "      <td>6</td>\n",
              "      <td>0.00</td>\n",
              "      <td>2</td>\n",
              "      <td>0.0</td>\n",
              "      <td>1.0</td>\n",
              "      <td>1011688.0</td>\n",
              "      <td>0</td>\n",
              "    </tr>\n",
              "  </tbody>\n",
              "</table>\n",
              "</div>\n",
              "    <div class=\"colab-df-buttons\">\n",
              "\n",
              "  <div class=\"colab-df-container\">\n",
              "    <button class=\"colab-df-convert\" onclick=\"convertToInteractive('df-6f5872e7-24c1-4ecb-8819-e3d20942ce85')\"\n",
              "            title=\"Convert this dataframe to an interactive table.\"\n",
              "            style=\"display:none;\">\n",
              "\n",
              "  <svg xmlns=\"http://www.w3.org/2000/svg\" height=\"24px\" viewBox=\"0 -960 960 960\">\n",
              "    <path d=\"M120-120v-720h720v720H120Zm60-500h600v-160H180v160Zm220 220h160v-160H400v160Zm0 220h160v-160H400v160ZM180-400h160v-160H180v160Zm440 0h160v-160H620v160ZM180-180h160v-160H180v160Zm440 0h160v-160H620v160Z\"/>\n",
              "  </svg>\n",
              "    </button>\n",
              "\n",
              "  <style>\n",
              "    .colab-df-container {\n",
              "      display:flex;\n",
              "      gap: 12px;\n",
              "    }\n",
              "\n",
              "    .colab-df-convert {\n",
              "      background-color: #E8F0FE;\n",
              "      border: none;\n",
              "      border-radius: 50%;\n",
              "      cursor: pointer;\n",
              "      display: none;\n",
              "      fill: #1967D2;\n",
              "      height: 32px;\n",
              "      padding: 0 0 0 0;\n",
              "      width: 32px;\n",
              "    }\n",
              "\n",
              "    .colab-df-convert:hover {\n",
              "      background-color: #E2EBFA;\n",
              "      box-shadow: 0px 1px 2px rgba(60, 64, 67, 0.3), 0px 1px 3px 1px rgba(60, 64, 67, 0.15);\n",
              "      fill: #174EA6;\n",
              "    }\n",
              "\n",
              "    .colab-df-buttons div {\n",
              "      margin-bottom: 4px;\n",
              "    }\n",
              "\n",
              "    [theme=dark] .colab-df-convert {\n",
              "      background-color: #3B4455;\n",
              "      fill: #D2E3FC;\n",
              "    }\n",
              "\n",
              "    [theme=dark] .colab-df-convert:hover {\n",
              "      background-color: #434B5C;\n",
              "      box-shadow: 0px 1px 3px 1px rgba(0, 0, 0, 0.15);\n",
              "      filter: drop-shadow(0px 1px 2px rgba(0, 0, 0, 0.3));\n",
              "      fill: #FFFFFF;\n",
              "    }\n",
              "  </style>\n",
              "\n",
              "    <script>\n",
              "      const buttonEl =\n",
              "        document.querySelector('#df-6f5872e7-24c1-4ecb-8819-e3d20942ce85 button.colab-df-convert');\n",
              "      buttonEl.style.display =\n",
              "        google.colab.kernel.accessAllowed ? 'block' : 'none';\n",
              "\n",
              "      async function convertToInteractive(key) {\n",
              "        const element = document.querySelector('#df-6f5872e7-24c1-4ecb-8819-e3d20942ce85');\n",
              "        const dataTable =\n",
              "          await google.colab.kernel.invokeFunction('convertToInteractive',\n",
              "                                                    [key], {});\n",
              "        if (!dataTable) return;\n",
              "\n",
              "        const docLinkHtml = 'Like what you see? Visit the ' +\n",
              "          '<a target=\"_blank\" href=https://colab.research.google.com/notebooks/data_table.ipynb>data table notebook</a>'\n",
              "          + ' to learn more about interactive tables.';\n",
              "        element.innerHTML = '';\n",
              "        dataTable['output_type'] = 'display_data';\n",
              "        await google.colab.output.renderOutput(dataTable, element);\n",
              "        const docLink = document.createElement('div');\n",
              "        docLink.innerHTML = docLinkHtml;\n",
              "        element.appendChild(docLink);\n",
              "      }\n",
              "    </script>\n",
              "  </div>\n",
              "\n",
              "\n",
              "    <div id=\"df-32d34169-5048-437a-9f4d-ab3f7d01c291\">\n",
              "      <button class=\"colab-df-quickchart\" onclick=\"quickchart('df-32d34169-5048-437a-9f4d-ab3f7d01c291')\"\n",
              "                title=\"Suggest charts\"\n",
              "                style=\"display:none;\">\n",
              "\n",
              "<svg xmlns=\"http://www.w3.org/2000/svg\" height=\"24px\"viewBox=\"0 0 24 24\"\n",
              "     width=\"24px\">\n",
              "    <g>\n",
              "        <path d=\"M19 3H5c-1.1 0-2 .9-2 2v14c0 1.1.9 2 2 2h14c1.1 0 2-.9 2-2V5c0-1.1-.9-2-2-2zM9 17H7v-7h2v7zm4 0h-2V7h2v10zm4 0h-2v-4h2v4z\"/>\n",
              "    </g>\n",
              "</svg>\n",
              "      </button>\n",
              "\n",
              "<style>\n",
              "  .colab-df-quickchart {\n",
              "      --bg-color: #E8F0FE;\n",
              "      --fill-color: #1967D2;\n",
              "      --hover-bg-color: #E2EBFA;\n",
              "      --hover-fill-color: #174EA6;\n",
              "      --disabled-fill-color: #AAA;\n",
              "      --disabled-bg-color: #DDD;\n",
              "  }\n",
              "\n",
              "  [theme=dark] .colab-df-quickchart {\n",
              "      --bg-color: #3B4455;\n",
              "      --fill-color: #D2E3FC;\n",
              "      --hover-bg-color: #434B5C;\n",
              "      --hover-fill-color: #FFFFFF;\n",
              "      --disabled-bg-color: #3B4455;\n",
              "      --disabled-fill-color: #666;\n",
              "  }\n",
              "\n",
              "  .colab-df-quickchart {\n",
              "    background-color: var(--bg-color);\n",
              "    border: none;\n",
              "    border-radius: 50%;\n",
              "    cursor: pointer;\n",
              "    display: none;\n",
              "    fill: var(--fill-color);\n",
              "    height: 32px;\n",
              "    padding: 0;\n",
              "    width: 32px;\n",
              "  }\n",
              "\n",
              "  .colab-df-quickchart:hover {\n",
              "    background-color: var(--hover-bg-color);\n",
              "    box-shadow: 0 1px 2px rgba(60, 64, 67, 0.3), 0 1px 3px 1px rgba(60, 64, 67, 0.15);\n",
              "    fill: var(--button-hover-fill-color);\n",
              "  }\n",
              "\n",
              "  .colab-df-quickchart-complete:disabled,\n",
              "  .colab-df-quickchart-complete:disabled:hover {\n",
              "    background-color: var(--disabled-bg-color);\n",
              "    fill: var(--disabled-fill-color);\n",
              "    box-shadow: none;\n",
              "  }\n",
              "\n",
              "  .colab-df-spinner {\n",
              "    border: 2px solid var(--fill-color);\n",
              "    border-color: transparent;\n",
              "    border-bottom-color: var(--fill-color);\n",
              "    animation:\n",
              "      spin 1s steps(1) infinite;\n",
              "  }\n",
              "\n",
              "  @keyframes spin {\n",
              "    0% {\n",
              "      border-color: transparent;\n",
              "      border-bottom-color: var(--fill-color);\n",
              "      border-left-color: var(--fill-color);\n",
              "    }\n",
              "    20% {\n",
              "      border-color: transparent;\n",
              "      border-left-color: var(--fill-color);\n",
              "      border-top-color: var(--fill-color);\n",
              "    }\n",
              "    30% {\n",
              "      border-color: transparent;\n",
              "      border-left-color: var(--fill-color);\n",
              "      border-top-color: var(--fill-color);\n",
              "      border-right-color: var(--fill-color);\n",
              "    }\n",
              "    40% {\n",
              "      border-color: transparent;\n",
              "      border-right-color: var(--fill-color);\n",
              "      border-top-color: var(--fill-color);\n",
              "    }\n",
              "    60% {\n",
              "      border-color: transparent;\n",
              "      border-right-color: var(--fill-color);\n",
              "    }\n",
              "    80% {\n",
              "      border-color: transparent;\n",
              "      border-right-color: var(--fill-color);\n",
              "      border-bottom-color: var(--fill-color);\n",
              "    }\n",
              "    90% {\n",
              "      border-color: transparent;\n",
              "      border-bottom-color: var(--fill-color);\n",
              "    }\n",
              "  }\n",
              "</style>\n",
              "\n",
              "      <script>\n",
              "        async function quickchart(key) {\n",
              "          const quickchartButtonEl =\n",
              "            document.querySelector('#' + key + ' button');\n",
              "          quickchartButtonEl.disabled = true;  // To prevent multiple clicks.\n",
              "          quickchartButtonEl.classList.add('colab-df-spinner');\n",
              "          try {\n",
              "            const charts = await google.colab.kernel.invokeFunction(\n",
              "                'suggestCharts', [key], {});\n",
              "          } catch (error) {\n",
              "            console.error('Error during call to suggestCharts:', error);\n",
              "          }\n",
              "          quickchartButtonEl.classList.remove('colab-df-spinner');\n",
              "          quickchartButtonEl.classList.add('colab-df-quickchart-complete');\n",
              "        }\n",
              "        (() => {\n",
              "          let quickchartButtonEl =\n",
              "            document.querySelector('#df-32d34169-5048-437a-9f4d-ab3f7d01c291 button');\n",
              "          quickchartButtonEl.style.display =\n",
              "            google.colab.kernel.accessAllowed ? 'block' : 'none';\n",
              "        })();\n",
              "      </script>\n",
              "    </div>\n",
              "\n",
              "    </div>\n",
              "  </div>\n"
            ],
            "application/vnd.google.colaboratory.intrinsic+json": {
              "type": "dataframe",
              "variable_name": "df",
              "summary": "{\n  \"name\": \"df\",\n  \"rows\": 99901,\n  \"fields\": [\n    {\n      \"column\": \"Credit_Score\",\n      \"properties\": {\n        \"dtype\": \"number\",\n        \"std\": 80,\n        \"min\": 350,\n        \"max\": 850,\n        \"num_unique_values\": 456,\n        \"samples\": [\n          513,\n          565,\n          418\n        ],\n        \"semantic_type\": \"\",\n        \"description\": \"\"\n      }\n    },\n    {\n      \"column\": \"Pais\",\n      \"properties\": {\n        \"dtype\": \"category\",\n        \"num_unique_values\": 3,\n        \"samples\": [\n          \"SPAIN\",\n          \"GERMANY\",\n          \"FRANCE\"\n        ],\n        \"semantic_type\": \"\",\n        \"description\": \"\"\n      }\n    },\n    {\n      \"column\": \"Genero\",\n      \"properties\": {\n        \"dtype\": \"category\",\n        \"num_unique_values\": 2,\n        \"samples\": [\n          \"Female\",\n          \"Male\"\n        ],\n        \"semantic_type\": \"\",\n        \"description\": \"\"\n      }\n    },\n    {\n      \"column\": \"Idade\",\n      \"properties\": {\n        \"dtype\": \"number\",\n        \"std\": 8.818942602951456,\n        \"min\": 18.0,\n        \"max\": 92.0,\n        \"num_unique_values\": 68,\n        \"samples\": [\n          64.0,\n          34.0\n        ],\n        \"semantic_type\": \"\",\n        \"description\": \"\"\n      }\n    },\n    {\n      \"column\": \"Tempo_Credito\",\n      \"properties\": {\n        \"dtype\": \"number\",\n        \"std\": 2,\n        \"min\": 0,\n        \"max\": 10,\n        \"num_unique_values\": 11,\n        \"samples\": [\n          8,\n          5\n        ],\n        \"semantic_type\": \"\",\n        \"description\": \"\"\n      }\n    },\n    {\n      \"column\": \"Balanco\",\n      \"properties\": {\n        \"dtype\": \"number\",\n        \"std\": 62784.67819295629,\n        \"min\": 0.0,\n        \"max\": 250898.09,\n        \"num_unique_values\": 20936,\n        \"samples\": [\n          126551.65,\n          92224.56\n        ],\n        \"semantic_type\": \"\",\n        \"description\": \"\"\n      }\n    },\n    {\n      \"column\": \"Qtd_Produtos\",\n      \"properties\": {\n        \"dtype\": \"number\",\n        \"std\": 0,\n        \"min\": 1,\n        \"max\": 4,\n        \"num_unique_values\": 4,\n        \"samples\": [\n          1,\n          4\n        ],\n        \"semantic_type\": \"\",\n        \"description\": \"\"\n      }\n    },\n    {\n      \"column\": \"Possui_Cartao\",\n      \"properties\": {\n        \"dtype\": \"number\",\n        \"std\": 0.4298651144920262,\n        \"min\": 0.0,\n        \"max\": 1.0,\n        \"num_unique_values\": 2,\n        \"samples\": [\n          0.0,\n          1.0\n        ],\n        \"semantic_type\": \"\",\n        \"description\": \"\"\n      }\n    },\n    {\n      \"column\": \"Membro_Ativo\",\n      \"properties\": {\n        \"dtype\": \"number\",\n        \"std\": 0.49999621495713115,\n        \"min\": 0.0,\n        \"max\": 1.0,\n        \"num_unique_values\": 2,\n        \"samples\": [\n          1.0,\n          0.0\n        ],\n        \"semantic_type\": \"\",\n        \"description\": \"\"\n      }\n    },\n    {\n      \"column\": \"Salario_Anual\",\n      \"properties\": {\n        \"dtype\": \"number\",\n        \"std\": 5528322.017852523,\n        \"min\": 1158.0,\n        \"max\": 38190168.0,\n        \"num_unique_values\": 17944,\n        \"samples\": [\n          1879136.0,\n          2601948.0\n        ],\n        \"semantic_type\": \"\",\n        \"description\": \"\"\n      }\n    },\n    {\n      \"column\": \"Churn\",\n      \"properties\": {\n        \"dtype\": \"number\",\n        \"std\": 0,\n        \"min\": 0,\n        \"max\": 1,\n        \"num_unique_values\": 2,\n        \"samples\": [\n          1,\n          0\n        ],\n        \"semantic_type\": \"\",\n        \"description\": \"\"\n      }\n    }\n  ]\n}"
            }
          },
          "metadata": {},
          "execution_count": 11
        }
      ]
    },
    {
      "cell_type": "code",
      "source": [
        "# Verificando tipos de dados\n",
        "df.dtypes"
      ],
      "metadata": {
        "id": "mTD9N4mXhrPo",
        "colab": {
          "base_uri": "https://localhost:8080/",
          "height": 429
        },
        "outputId": "d1e81195-fae0-40e9-f74f-b3d1fc65c9d9"
      },
      "execution_count": null,
      "outputs": [
        {
          "output_type": "execute_result",
          "data": {
            "text/plain": [
              "Credit_Score       int64\n",
              "Pais              object\n",
              "Genero            object\n",
              "Idade            float64\n",
              "Tempo_Credito      int64\n",
              "Balanco          float64\n",
              "Qtd_Produtos       int64\n",
              "Possui_Cartao    float64\n",
              "Membro_Ativo     float64\n",
              "Salario_Anual    float64\n",
              "Churn              int64\n",
              "dtype: object"
            ],
            "text/html": [
              "<div>\n",
              "<style scoped>\n",
              "    .dataframe tbody tr th:only-of-type {\n",
              "        vertical-align: middle;\n",
              "    }\n",
              "\n",
              "    .dataframe tbody tr th {\n",
              "        vertical-align: top;\n",
              "    }\n",
              "\n",
              "    .dataframe thead th {\n",
              "        text-align: right;\n",
              "    }\n",
              "</style>\n",
              "<table border=\"1\" class=\"dataframe\">\n",
              "  <thead>\n",
              "    <tr style=\"text-align: right;\">\n",
              "      <th></th>\n",
              "      <th>0</th>\n",
              "    </tr>\n",
              "  </thead>\n",
              "  <tbody>\n",
              "    <tr>\n",
              "      <th>Credit_Score</th>\n",
              "      <td>int64</td>\n",
              "    </tr>\n",
              "    <tr>\n",
              "      <th>Pais</th>\n",
              "      <td>object</td>\n",
              "    </tr>\n",
              "    <tr>\n",
              "      <th>Genero</th>\n",
              "      <td>object</td>\n",
              "    </tr>\n",
              "    <tr>\n",
              "      <th>Idade</th>\n",
              "      <td>float64</td>\n",
              "    </tr>\n",
              "    <tr>\n",
              "      <th>Tempo_Credito</th>\n",
              "      <td>int64</td>\n",
              "    </tr>\n",
              "    <tr>\n",
              "      <th>Balanco</th>\n",
              "      <td>float64</td>\n",
              "    </tr>\n",
              "    <tr>\n",
              "      <th>Qtd_Produtos</th>\n",
              "      <td>int64</td>\n",
              "    </tr>\n",
              "    <tr>\n",
              "      <th>Possui_Cartao</th>\n",
              "      <td>float64</td>\n",
              "    </tr>\n",
              "    <tr>\n",
              "      <th>Membro_Ativo</th>\n",
              "      <td>float64</td>\n",
              "    </tr>\n",
              "    <tr>\n",
              "      <th>Salario_Anual</th>\n",
              "      <td>float64</td>\n",
              "    </tr>\n",
              "    <tr>\n",
              "      <th>Churn</th>\n",
              "      <td>int64</td>\n",
              "    </tr>\n",
              "  </tbody>\n",
              "</table>\n",
              "</div><br><label><b>dtype:</b> object</label>"
            ]
          },
          "metadata": {},
          "execution_count": 12
        }
      ]
    },
    {
      "cell_type": "code",
      "source": [
        "# Verificando valores nulos\n",
        "df.isnull().sum()"
      ],
      "metadata": {
        "id": "6GES9AnJh02s",
        "colab": {
          "base_uri": "https://localhost:8080/",
          "height": 429
        },
        "outputId": "14640444-fa9d-4f3c-e678-1d386c8833b2"
      },
      "execution_count": null,
      "outputs": [
        {
          "output_type": "execute_result",
          "data": {
            "text/plain": [
              "Credit_Score       0\n",
              "Pais               0\n",
              "Genero             0\n",
              "Idade            193\n",
              "Tempo_Credito      0\n",
              "Balanco            0\n",
              "Qtd_Produtos       0\n",
              "Possui_Cartao      0\n",
              "Membro_Ativo       0\n",
              "Salario_Anual      0\n",
              "Churn              0\n",
              "dtype: int64"
            ],
            "text/html": [
              "<div>\n",
              "<style scoped>\n",
              "    .dataframe tbody tr th:only-of-type {\n",
              "        vertical-align: middle;\n",
              "    }\n",
              "\n",
              "    .dataframe tbody tr th {\n",
              "        vertical-align: top;\n",
              "    }\n",
              "\n",
              "    .dataframe thead th {\n",
              "        text-align: right;\n",
              "    }\n",
              "</style>\n",
              "<table border=\"1\" class=\"dataframe\">\n",
              "  <thead>\n",
              "    <tr style=\"text-align: right;\">\n",
              "      <th></th>\n",
              "      <th>0</th>\n",
              "    </tr>\n",
              "  </thead>\n",
              "  <tbody>\n",
              "    <tr>\n",
              "      <th>Credit_Score</th>\n",
              "      <td>0</td>\n",
              "    </tr>\n",
              "    <tr>\n",
              "      <th>Pais</th>\n",
              "      <td>0</td>\n",
              "    </tr>\n",
              "    <tr>\n",
              "      <th>Genero</th>\n",
              "      <td>0</td>\n",
              "    </tr>\n",
              "    <tr>\n",
              "      <th>Idade</th>\n",
              "      <td>193</td>\n",
              "    </tr>\n",
              "    <tr>\n",
              "      <th>Tempo_Credito</th>\n",
              "      <td>0</td>\n",
              "    </tr>\n",
              "    <tr>\n",
              "      <th>Balanco</th>\n",
              "      <td>0</td>\n",
              "    </tr>\n",
              "    <tr>\n",
              "      <th>Qtd_Produtos</th>\n",
              "      <td>0</td>\n",
              "    </tr>\n",
              "    <tr>\n",
              "      <th>Possui_Cartao</th>\n",
              "      <td>0</td>\n",
              "    </tr>\n",
              "    <tr>\n",
              "      <th>Membro_Ativo</th>\n",
              "      <td>0</td>\n",
              "    </tr>\n",
              "    <tr>\n",
              "      <th>Salario_Anual</th>\n",
              "      <td>0</td>\n",
              "    </tr>\n",
              "    <tr>\n",
              "      <th>Churn</th>\n",
              "      <td>0</td>\n",
              "    </tr>\n",
              "  </tbody>\n",
              "</table>\n",
              "</div><br><label><b>dtype:</b> int64</label>"
            ]
          },
          "metadata": {},
          "execution_count": 13
        }
      ]
    },
    {
      "cell_type": "markdown",
      "source": [
        "**Passo 1:**\n",
        "Estatísticas Descritivas: Calcule estatísticas descritivas básicas para resumir a distribuição da variável, como média, mediana, moda, desvio padrão, mínimo, máximo e quartis."
      ],
      "metadata": {
        "id": "_QZ0FjqQiKQB"
      }
    },
    {
      "cell_type": "code",
      "source": [
        "# A função describe é uma excelente função para dar um panorama das nossas variáveis QUANTITATIVAS (numéricas), ela dá uma visão geral\n",
        "df.describe()"
      ],
      "metadata": {
        "id": "9ZNBA4liiLx5",
        "colab": {
          "base_uri": "https://localhost:8080/",
          "height": 320
        },
        "outputId": "1b7a74fc-0bcd-4c73-fb89-502fa68609cd"
      },
      "execution_count": null,
      "outputs": [
        {
          "output_type": "execute_result",
          "data": {
            "text/plain": [
              "       Credit_Score         Idade  Tempo_Credito        Balanco  Qtd_Produtos  \\\n",
              "count  99901.000000  99708.000000   99901.000000   99901.000000  99901.000000   \n",
              "mean     656.495060     38.144095       5.027838   55552.728848      1.553968   \n",
              "std       80.286609      8.818943       2.806926   62784.678193      0.547634   \n",
              "min      350.000000     18.000000       0.000000       0.000000      1.000000   \n",
              "25%      597.000000     32.000000       3.000000       0.000000      1.000000   \n",
              "50%      659.000000     37.000000       5.000000       0.000000      2.000000   \n",
              "75%      710.000000     42.000000       7.000000  119852.010000      2.000000   \n",
              "max      850.000000     92.000000      10.000000  250898.090000      4.000000   \n",
              "\n",
              "       Possui_Cartao  Membro_Ativo  Salario_Anual         Churn  \n",
              "count   99901.000000  99901.000000   9.990100e+04  99901.000000  \n",
              "mean        0.755378      0.497493   4.208816e+06      0.211169  \n",
              "std         0.429865      0.499996   5.528322e+06      0.408140  \n",
              "min         0.000000      0.000000   1.158000e+03      0.000000  \n",
              "25%         1.000000      0.000000   1.011688e+06      0.000000  \n",
              "50%         1.000000      0.000000   1.011688e+06      0.000000  \n",
              "75%         1.000000      1.000000   6.401424e+06      0.000000  \n",
              "max         1.000000      1.000000   3.819017e+07      1.000000  "
            ],
            "text/html": [
              "\n",
              "  <div id=\"df-a9441a96-7e1c-40fa-a6d6-bada78f94a41\" class=\"colab-df-container\">\n",
              "    <div>\n",
              "<style scoped>\n",
              "    .dataframe tbody tr th:only-of-type {\n",
              "        vertical-align: middle;\n",
              "    }\n",
              "\n",
              "    .dataframe tbody tr th {\n",
              "        vertical-align: top;\n",
              "    }\n",
              "\n",
              "    .dataframe thead th {\n",
              "        text-align: right;\n",
              "    }\n",
              "</style>\n",
              "<table border=\"1\" class=\"dataframe\">\n",
              "  <thead>\n",
              "    <tr style=\"text-align: right;\">\n",
              "      <th></th>\n",
              "      <th>Credit_Score</th>\n",
              "      <th>Idade</th>\n",
              "      <th>Tempo_Credito</th>\n",
              "      <th>Balanco</th>\n",
              "      <th>Qtd_Produtos</th>\n",
              "      <th>Possui_Cartao</th>\n",
              "      <th>Membro_Ativo</th>\n",
              "      <th>Salario_Anual</th>\n",
              "      <th>Churn</th>\n",
              "    </tr>\n",
              "  </thead>\n",
              "  <tbody>\n",
              "    <tr>\n",
              "      <th>count</th>\n",
              "      <td>99901.000000</td>\n",
              "      <td>99708.000000</td>\n",
              "      <td>99901.000000</td>\n",
              "      <td>99901.000000</td>\n",
              "      <td>99901.000000</td>\n",
              "      <td>99901.000000</td>\n",
              "      <td>99901.000000</td>\n",
              "      <td>9.990100e+04</td>\n",
              "      <td>99901.000000</td>\n",
              "    </tr>\n",
              "    <tr>\n",
              "      <th>mean</th>\n",
              "      <td>656.495060</td>\n",
              "      <td>38.144095</td>\n",
              "      <td>5.027838</td>\n",
              "      <td>55552.728848</td>\n",
              "      <td>1.553968</td>\n",
              "      <td>0.755378</td>\n",
              "      <td>0.497493</td>\n",
              "      <td>4.208816e+06</td>\n",
              "      <td>0.211169</td>\n",
              "    </tr>\n",
              "    <tr>\n",
              "      <th>std</th>\n",
              "      <td>80.286609</td>\n",
              "      <td>8.818943</td>\n",
              "      <td>2.806926</td>\n",
              "      <td>62784.678193</td>\n",
              "      <td>0.547634</td>\n",
              "      <td>0.429865</td>\n",
              "      <td>0.499996</td>\n",
              "      <td>5.528322e+06</td>\n",
              "      <td>0.408140</td>\n",
              "    </tr>\n",
              "    <tr>\n",
              "      <th>min</th>\n",
              "      <td>350.000000</td>\n",
              "      <td>18.000000</td>\n",
              "      <td>0.000000</td>\n",
              "      <td>0.000000</td>\n",
              "      <td>1.000000</td>\n",
              "      <td>0.000000</td>\n",
              "      <td>0.000000</td>\n",
              "      <td>1.158000e+03</td>\n",
              "      <td>0.000000</td>\n",
              "    </tr>\n",
              "    <tr>\n",
              "      <th>25%</th>\n",
              "      <td>597.000000</td>\n",
              "      <td>32.000000</td>\n",
              "      <td>3.000000</td>\n",
              "      <td>0.000000</td>\n",
              "      <td>1.000000</td>\n",
              "      <td>1.000000</td>\n",
              "      <td>0.000000</td>\n",
              "      <td>1.011688e+06</td>\n",
              "      <td>0.000000</td>\n",
              "    </tr>\n",
              "    <tr>\n",
              "      <th>50%</th>\n",
              "      <td>659.000000</td>\n",
              "      <td>37.000000</td>\n",
              "      <td>5.000000</td>\n",
              "      <td>0.000000</td>\n",
              "      <td>2.000000</td>\n",
              "      <td>1.000000</td>\n",
              "      <td>0.000000</td>\n",
              "      <td>1.011688e+06</td>\n",
              "      <td>0.000000</td>\n",
              "    </tr>\n",
              "    <tr>\n",
              "      <th>75%</th>\n",
              "      <td>710.000000</td>\n",
              "      <td>42.000000</td>\n",
              "      <td>7.000000</td>\n",
              "      <td>119852.010000</td>\n",
              "      <td>2.000000</td>\n",
              "      <td>1.000000</td>\n",
              "      <td>1.000000</td>\n",
              "      <td>6.401424e+06</td>\n",
              "      <td>0.000000</td>\n",
              "    </tr>\n",
              "    <tr>\n",
              "      <th>max</th>\n",
              "      <td>850.000000</td>\n",
              "      <td>92.000000</td>\n",
              "      <td>10.000000</td>\n",
              "      <td>250898.090000</td>\n",
              "      <td>4.000000</td>\n",
              "      <td>1.000000</td>\n",
              "      <td>1.000000</td>\n",
              "      <td>3.819017e+07</td>\n",
              "      <td>1.000000</td>\n",
              "    </tr>\n",
              "  </tbody>\n",
              "</table>\n",
              "</div>\n",
              "    <div class=\"colab-df-buttons\">\n",
              "\n",
              "  <div class=\"colab-df-container\">\n",
              "    <button class=\"colab-df-convert\" onclick=\"convertToInteractive('df-a9441a96-7e1c-40fa-a6d6-bada78f94a41')\"\n",
              "            title=\"Convert this dataframe to an interactive table.\"\n",
              "            style=\"display:none;\">\n",
              "\n",
              "  <svg xmlns=\"http://www.w3.org/2000/svg\" height=\"24px\" viewBox=\"0 -960 960 960\">\n",
              "    <path d=\"M120-120v-720h720v720H120Zm60-500h600v-160H180v160Zm220 220h160v-160H400v160Zm0 220h160v-160H400v160ZM180-400h160v-160H180v160Zm440 0h160v-160H620v160ZM180-180h160v-160H180v160Zm440 0h160v-160H620v160Z\"/>\n",
              "  </svg>\n",
              "    </button>\n",
              "\n",
              "  <style>\n",
              "    .colab-df-container {\n",
              "      display:flex;\n",
              "      gap: 12px;\n",
              "    }\n",
              "\n",
              "    .colab-df-convert {\n",
              "      background-color: #E8F0FE;\n",
              "      border: none;\n",
              "      border-radius: 50%;\n",
              "      cursor: pointer;\n",
              "      display: none;\n",
              "      fill: #1967D2;\n",
              "      height: 32px;\n",
              "      padding: 0 0 0 0;\n",
              "      width: 32px;\n",
              "    }\n",
              "\n",
              "    .colab-df-convert:hover {\n",
              "      background-color: #E2EBFA;\n",
              "      box-shadow: 0px 1px 2px rgba(60, 64, 67, 0.3), 0px 1px 3px 1px rgba(60, 64, 67, 0.15);\n",
              "      fill: #174EA6;\n",
              "    }\n",
              "\n",
              "    .colab-df-buttons div {\n",
              "      margin-bottom: 4px;\n",
              "    }\n",
              "\n",
              "    [theme=dark] .colab-df-convert {\n",
              "      background-color: #3B4455;\n",
              "      fill: #D2E3FC;\n",
              "    }\n",
              "\n",
              "    [theme=dark] .colab-df-convert:hover {\n",
              "      background-color: #434B5C;\n",
              "      box-shadow: 0px 1px 3px 1px rgba(0, 0, 0, 0.15);\n",
              "      filter: drop-shadow(0px 1px 2px rgba(0, 0, 0, 0.3));\n",
              "      fill: #FFFFFF;\n",
              "    }\n",
              "  </style>\n",
              "\n",
              "    <script>\n",
              "      const buttonEl =\n",
              "        document.querySelector('#df-a9441a96-7e1c-40fa-a6d6-bada78f94a41 button.colab-df-convert');\n",
              "      buttonEl.style.display =\n",
              "        google.colab.kernel.accessAllowed ? 'block' : 'none';\n",
              "\n",
              "      async function convertToInteractive(key) {\n",
              "        const element = document.querySelector('#df-a9441a96-7e1c-40fa-a6d6-bada78f94a41');\n",
              "        const dataTable =\n",
              "          await google.colab.kernel.invokeFunction('convertToInteractive',\n",
              "                                                    [key], {});\n",
              "        if (!dataTable) return;\n",
              "\n",
              "        const docLinkHtml = 'Like what you see? Visit the ' +\n",
              "          '<a target=\"_blank\" href=https://colab.research.google.com/notebooks/data_table.ipynb>data table notebook</a>'\n",
              "          + ' to learn more about interactive tables.';\n",
              "        element.innerHTML = '';\n",
              "        dataTable['output_type'] = 'display_data';\n",
              "        await google.colab.output.renderOutput(dataTable, element);\n",
              "        const docLink = document.createElement('div');\n",
              "        docLink.innerHTML = docLinkHtml;\n",
              "        element.appendChild(docLink);\n",
              "      }\n",
              "    </script>\n",
              "  </div>\n",
              "\n",
              "\n",
              "    <div id=\"df-6a2bea2c-e39f-4e63-9b94-a860e25d23b1\">\n",
              "      <button class=\"colab-df-quickchart\" onclick=\"quickchart('df-6a2bea2c-e39f-4e63-9b94-a860e25d23b1')\"\n",
              "                title=\"Suggest charts\"\n",
              "                style=\"display:none;\">\n",
              "\n",
              "<svg xmlns=\"http://www.w3.org/2000/svg\" height=\"24px\"viewBox=\"0 0 24 24\"\n",
              "     width=\"24px\">\n",
              "    <g>\n",
              "        <path d=\"M19 3H5c-1.1 0-2 .9-2 2v14c0 1.1.9 2 2 2h14c1.1 0 2-.9 2-2V5c0-1.1-.9-2-2-2zM9 17H7v-7h2v7zm4 0h-2V7h2v10zm4 0h-2v-4h2v4z\"/>\n",
              "    </g>\n",
              "</svg>\n",
              "      </button>\n",
              "\n",
              "<style>\n",
              "  .colab-df-quickchart {\n",
              "      --bg-color: #E8F0FE;\n",
              "      --fill-color: #1967D2;\n",
              "      --hover-bg-color: #E2EBFA;\n",
              "      --hover-fill-color: #174EA6;\n",
              "      --disabled-fill-color: #AAA;\n",
              "      --disabled-bg-color: #DDD;\n",
              "  }\n",
              "\n",
              "  [theme=dark] .colab-df-quickchart {\n",
              "      --bg-color: #3B4455;\n",
              "      --fill-color: #D2E3FC;\n",
              "      --hover-bg-color: #434B5C;\n",
              "      --hover-fill-color: #FFFFFF;\n",
              "      --disabled-bg-color: #3B4455;\n",
              "      --disabled-fill-color: #666;\n",
              "  }\n",
              "\n",
              "  .colab-df-quickchart {\n",
              "    background-color: var(--bg-color);\n",
              "    border: none;\n",
              "    border-radius: 50%;\n",
              "    cursor: pointer;\n",
              "    display: none;\n",
              "    fill: var(--fill-color);\n",
              "    height: 32px;\n",
              "    padding: 0;\n",
              "    width: 32px;\n",
              "  }\n",
              "\n",
              "  .colab-df-quickchart:hover {\n",
              "    background-color: var(--hover-bg-color);\n",
              "    box-shadow: 0 1px 2px rgba(60, 64, 67, 0.3), 0 1px 3px 1px rgba(60, 64, 67, 0.15);\n",
              "    fill: var(--button-hover-fill-color);\n",
              "  }\n",
              "\n",
              "  .colab-df-quickchart-complete:disabled,\n",
              "  .colab-df-quickchart-complete:disabled:hover {\n",
              "    background-color: var(--disabled-bg-color);\n",
              "    fill: var(--disabled-fill-color);\n",
              "    box-shadow: none;\n",
              "  }\n",
              "\n",
              "  .colab-df-spinner {\n",
              "    border: 2px solid var(--fill-color);\n",
              "    border-color: transparent;\n",
              "    border-bottom-color: var(--fill-color);\n",
              "    animation:\n",
              "      spin 1s steps(1) infinite;\n",
              "  }\n",
              "\n",
              "  @keyframes spin {\n",
              "    0% {\n",
              "      border-color: transparent;\n",
              "      border-bottom-color: var(--fill-color);\n",
              "      border-left-color: var(--fill-color);\n",
              "    }\n",
              "    20% {\n",
              "      border-color: transparent;\n",
              "      border-left-color: var(--fill-color);\n",
              "      border-top-color: var(--fill-color);\n",
              "    }\n",
              "    30% {\n",
              "      border-color: transparent;\n",
              "      border-left-color: var(--fill-color);\n",
              "      border-top-color: var(--fill-color);\n",
              "      border-right-color: var(--fill-color);\n",
              "    }\n",
              "    40% {\n",
              "      border-color: transparent;\n",
              "      border-right-color: var(--fill-color);\n",
              "      border-top-color: var(--fill-color);\n",
              "    }\n",
              "    60% {\n",
              "      border-color: transparent;\n",
              "      border-right-color: var(--fill-color);\n",
              "    }\n",
              "    80% {\n",
              "      border-color: transparent;\n",
              "      border-right-color: var(--fill-color);\n",
              "      border-bottom-color: var(--fill-color);\n",
              "    }\n",
              "    90% {\n",
              "      border-color: transparent;\n",
              "      border-bottom-color: var(--fill-color);\n",
              "    }\n",
              "  }\n",
              "</style>\n",
              "\n",
              "      <script>\n",
              "        async function quickchart(key) {\n",
              "          const quickchartButtonEl =\n",
              "            document.querySelector('#' + key + ' button');\n",
              "          quickchartButtonEl.disabled = true;  // To prevent multiple clicks.\n",
              "          quickchartButtonEl.classList.add('colab-df-spinner');\n",
              "          try {\n",
              "            const charts = await google.colab.kernel.invokeFunction(\n",
              "                'suggestCharts', [key], {});\n",
              "          } catch (error) {\n",
              "            console.error('Error during call to suggestCharts:', error);\n",
              "          }\n",
              "          quickchartButtonEl.classList.remove('colab-df-spinner');\n",
              "          quickchartButtonEl.classList.add('colab-df-quickchart-complete');\n",
              "        }\n",
              "        (() => {\n",
              "          let quickchartButtonEl =\n",
              "            document.querySelector('#df-6a2bea2c-e39f-4e63-9b94-a860e25d23b1 button');\n",
              "          quickchartButtonEl.style.display =\n",
              "            google.colab.kernel.accessAllowed ? 'block' : 'none';\n",
              "        })();\n",
              "      </script>\n",
              "    </div>\n",
              "\n",
              "    </div>\n",
              "  </div>\n"
            ],
            "application/vnd.google.colaboratory.intrinsic+json": {
              "type": "dataframe",
              "summary": "{\n  \"name\": \"df\",\n  \"rows\": 8,\n  \"fields\": [\n    {\n      \"column\": \"Credit_Score\",\n      \"properties\": {\n        \"dtype\": \"number\",\n        \"std\": 35124.0330555175,\n        \"min\": 80.28660926798135,\n        \"max\": 99901.0,\n        \"num_unique_values\": 8,\n        \"samples\": [\n          656.4950601095084,\n          659.0,\n          99901.0\n        ],\n        \"semantic_type\": \"\",\n        \"description\": \"\"\n      }\n    },\n    {\n      \"column\": \"Idade\",\n      \"properties\": {\n        \"dtype\": \"number\",\n        \"std\": 35238.575845999425,\n        \"min\": 8.818942602951456,\n        \"max\": 99708.0,\n        \"num_unique_values\": 8,\n        \"samples\": [\n          38.14409515786095,\n          37.0,\n          99708.0\n        ],\n        \"semantic_type\": \"\",\n        \"description\": \"\"\n      }\n    },\n    {\n      \"column\": \"Tempo_Credito\",\n      \"properties\": {\n        \"dtype\": \"number\",\n        \"std\": 35318.67899332405,\n        \"min\": 0.0,\n        \"max\": 99901.0,\n        \"num_unique_values\": 8,\n        \"samples\": [\n          5.027837559183592,\n          5.0,\n          99901.0\n        ],\n        \"semantic_type\": \"\",\n        \"description\": \"\"\n      }\n    },\n    {\n      \"column\": \"Balanco\",\n      \"properties\": {\n        \"dtype\": \"number\",\n        \"std\": 85322.20820231325,\n        \"min\": 0.0,\n        \"max\": 250898.09,\n        \"num_unique_values\": 6,\n        \"samples\": [\n          99901.0,\n          55552.72884845998,\n          250898.09\n        ],\n        \"semantic_type\": \"\",\n        \"description\": \"\"\n      }\n    },\n    {\n      \"column\": \"Qtd_Produtos\",\n      \"properties\": {\n        \"dtype\": \"number\",\n        \"std\": 35319.72606620935,\n        \"min\": 0.5476337232666784,\n        \"max\": 99901.0,\n        \"num_unique_values\": 6,\n        \"samples\": [\n          99901.0,\n          1.553968428744457,\n          4.0\n        ],\n        \"semantic_type\": \"\",\n        \"description\": \"\"\n      }\n    },\n    {\n      \"column\": \"Possui_Cartao\",\n      \"properties\": {\n        \"dtype\": \"number\",\n        \"std\": 35320.07538119046,\n        \"min\": 0.0,\n        \"max\": 99901.0,\n        \"num_unique_values\": 5,\n        \"samples\": [\n          0.7553778240458053,\n          1.0,\n          0.4298651144920262\n        ],\n        \"semantic_type\": \"\",\n        \"description\": \"\"\n      }\n    },\n    {\n      \"column\": \"Membro_Ativo\",\n      \"properties\": {\n        \"dtype\": \"number\",\n        \"std\": 35320.18588007007,\n        \"min\": 0.0,\n        \"max\": 99901.0,\n        \"num_unique_values\": 5,\n        \"samples\": [\n          0.49749251759241647,\n          1.0,\n          0.49999621495713115\n        ],\n        \"semantic_type\": \"\",\n        \"description\": \"\"\n      }\n    },\n    {\n      \"column\": \"Salario_Anual\",\n      \"properties\": {\n        \"dtype\": \"number\",\n        \"std\": 12825369.185708573,\n        \"min\": 1158.0,\n        \"max\": 38190168.0,\n        \"num_unique_values\": 7,\n        \"samples\": [\n          99901.0,\n          4208816.1765748095,\n          6401424.0\n        ],\n        \"semantic_type\": \"\",\n        \"description\": \"\"\n      }\n    },\n    {\n      \"column\": \"Churn\",\n      \"properties\": {\n        \"dtype\": \"number\",\n        \"std\": 35320.25548788638,\n        \"min\": 0.0,\n        \"max\": 99901.0,\n        \"num_unique_values\": 5,\n        \"samples\": [\n          0.21116905736679312,\n          1.0,\n          0.4081401156607243\n        ],\n        \"semantic_type\": \"\",\n        \"description\": \"\"\n      }\n    }\n  ]\n}"
            }
          },
          "metadata": {},
          "execution_count": 14
        }
      ]
    },
    {
      "cell_type": "markdown",
      "source": [
        "**Passo 2:**\n",
        "\n",
        "Aprofundamento nas variáveis com comportamento \"estranho\"."
      ],
      "metadata": {
        "id": "jbwKAs7Go21z"
      }
    },
    {
      "cell_type": "code",
      "source": [
        "#verificando quantidade de linhas com o dado igual a 0 (relembrando que aula passada notamos que de fato essa variavel não tinha to)\n",
        "(df['Balanco'] == 0).sum()"
      ],
      "metadata": {
        "id": "Lc72G6fBiVz_",
        "colab": {
          "base_uri": "https://localhost:8080/"
        },
        "outputId": "11ee3d4d-dabc-4346-91b2-33759fcca95d"
      },
      "execution_count": null,
      "outputs": [
        {
          "output_type": "execute_result",
          "data": {
            "text/plain": [
              "np.int64(54173)"
            ]
          },
          "metadata": {},
          "execution_count": 15
        }
      ]
    },
    {
      "cell_type": "code",
      "source": [
        "(df['Balanco'] == 0).mean() * 100"
      ],
      "metadata": {
        "id": "5Cp-HSJhiYDA",
        "colab": {
          "base_uri": "https://localhost:8080/"
        },
        "outputId": "365d2663-cc5d-459a-bd19-c170b55a3c97"
      },
      "execution_count": null,
      "outputs": [
        {
          "output_type": "execute_result",
          "data": {
            "text/plain": [
              "np.float64(54.2266844175734)"
            ]
          },
          "metadata": {},
          "execution_count": 16
        }
      ]
    },
    {
      "cell_type": "code",
      "source": [
        "df.boxplot(column='Balanco')\n",
        "plt.title('Box Plot da Balanco')\n",
        "plt.ylabel('Valores')\n",
        "plt.show()"
      ],
      "metadata": {
        "id": "5EeJum3Dib_L",
        "colab": {
          "base_uri": "https://localhost:8080/",
          "height": 452
        },
        "outputId": "2a86da48-abca-4585-8276-2a0d91aceb4d"
      },
      "execution_count": null,
      "outputs": [
        {
          "output_type": "display_data",
          "data": {
            "text/plain": [
              "<Figure size 640x480 with 1 Axes>"
            ],
            "image/png": "[encoded data removed]"
          },
          "metadata": {}
        }
      ]
    },
    {
      "cell_type": "code",
      "source": [
        "# Nesse trecho do nosso código iremos selecionar os valores da coluna balanco que são diferentes de 0\n",
        "\n",
        "df_nao_zero = df[df['Balanco'] != 0]\n",
        "df_nao_zero.boxplot(column='Balanco')\n",
        "plt.title('Box Plot da Balanco (Valores Diferentes de Zero)')\n",
        "plt.ylabel('Valores')\n",
        "plt.show()\n",
        "\n",
        "# Notamos que temos forte presença de valores fora da normalidade dos dados, apesar desses dados a distribuição dos demais dados é bem equilibrada."
      ],
      "metadata": {
        "id": "JyvXC5bmidjJ",
        "colab": {
          "base_uri": "https://localhost:8080/",
          "height": 452
        },
        "outputId": "25ce860e-2755-402e-f717-7265835c89cc"
      },
      "execution_count": null,
      "outputs": [
        {
          "output_type": "display_data",
          "data": {
            "text/plain": [
              "<Figure size 640x480 with 1 Axes>"
            ],
            "image/png": "[encoded data removed]"
          },
          "metadata": {}
        }
      ]
    },
    {
      "cell_type": "code",
      "source": [
        "df.boxplot(column='Qtd_Produtos')\n",
        "plt.title('Qtd_Produtos')\n",
        "plt.ylabel('Valores')\n",
        "plt.show()\n",
        "\n",
        "#Notem que a distribuição é pouco proporcional, muitos valores abaixo de 1.5 e outliers acima de 3.0"
      ],
      "metadata": {
        "id": "ETbNm1Wpiugd",
        "colab": {
          "base_uri": "https://localhost:8080/",
          "height": 452
        },
        "outputId": "0ed36bd1-5e3b-4e21-e41d-bdc41609e724"
      },
      "execution_count": null,
      "outputs": [
        {
          "output_type": "display_data",
          "data": {
            "text/plain": [
              "<Figure size 640x480 with 1 Axes>"
            ],
            "image/png": "[encoded data removed]"
          },
          "metadata": {}
        }
      ]
    },
    {
      "cell_type": "markdown",
      "source": [
        "Vamos comparar com o boxplot de uma variável que parece estar melhor distribuida:"
      ],
      "metadata": {
        "id": "FIZxAGIojLPu"
      }
    },
    {
      "cell_type": "code",
      "source": [
        "df.boxplot(column='Tempo_Credito')\n",
        "plt.title('Tempo_Credito')\n",
        "plt.ylabel('Valores')\n",
        "plt.show()\n",
        "# Notem como o boxplot tem um comportamento esperado, existe proporcionalidade entre a distribuição dos dados, sem presença de outliers."
      ],
      "metadata": {
        "colab": {
          "base_uri": "https://localhost:8080/",
          "height": 452
        },
        "id": "6gbst7QkjBcT",
        "outputId": "96f5a253-89c6-4dd1-a912-ccdd96889fac"
      },
      "execution_count": null,
      "outputs": [
        {
          "output_type": "display_data",
          "data": {
            "text/plain": [
              "<Figure size 640x480 with 1 Axes>"
            ],
            "image/png": "[encoded data removed]"
          },
          "metadata": {}
        }
      ]
    },
    {
      "cell_type": "markdown",
      "source": [
        "**Passo 3:**\n",
        "\n",
        "Analisando as variáveis booleanas.\n",
        "\n",
        "É muito importante verificarmos a distribuição das variáveis com valores booleanos (1 e 0), saber se as distribuições são balanceadas e se alguma categoria acaba tendo baixa relevância."
      ],
      "metadata": {
        "id": "v2I8sLIAoswH"
      }
    },
    {
      "cell_type": "code",
      "source": [
        "# Contagem dos valores da coluna de possui_cartao\n",
        "contagem_cartao = df['Possui_Cartao'].value_counts()\n",
        "\n",
        "# Calculando a porcentagem para que apareça no gráfico\n",
        "porcentagem_cartao = (contagem_cartao / contagem_cartao.sum()) * 100\n",
        "ax = contagem_cartao.plot(kind='bar')\n",
        "plt.title('Gráfico de Barras para a Variável Possui_Cartao')\n",
        "plt.xlabel('Possui Cartão')\n",
        "plt.ylabel('Frequência')"
      ],
      "metadata": {
        "id": "LdRB3tegjWy4",
        "colab": {
          "base_uri": "https://localhost:8080/",
          "height": 497
        },
        "outputId": "2d020092-20e0-4ba8-bbe3-e2704bb184db"
      },
      "execution_count": null,
      "outputs": [
        {
          "output_type": "execute_result",
          "data": {
            "text/plain": [
              "Text(0, 0.5, 'Frequência')"
            ]
          },
          "metadata": {},
          "execution_count": 21
        },
        {
          "output_type": "display_data",
          "data": {
            "text/plain": [
              "<Figure size 640x480 with 1 Axes>"
            ],
            "image/png": "[encoded data removed]"
          },
          "metadata": {}
        }
      ]
    },
    {
      "cell_type": "code",
      "source": [
        "# Contando as ocorrências\n",
        "contagem_cartao = df['Possui_Cartao'].value_counts()\n",
        "\n",
        "# Calculando a porcentagem\n",
        "(contagem_cartao / contagem_cartao.sum()) * 100"
      ],
      "metadata": {
        "colab": {
          "base_uri": "https://localhost:8080/",
          "height": 178
        },
        "id": "0Z0p9GAQpFS6",
        "outputId": "7cc904fb-cc2a-4275-8b83-35135ff2d5bc"
      },
      "execution_count": null,
      "outputs": [
        {
          "output_type": "execute_result",
          "data": {
            "text/plain": [
              "Possui_Cartao\n",
              "1.0    75.537782\n",
              "0.0    24.462218\n",
              "Name: count, dtype: float64"
            ],
            "text/html": [
              "<div>\n",
              "<style scoped>\n",
              "    .dataframe tbody tr th:only-of-type {\n",
              "        vertical-align: middle;\n",
              "    }\n",
              "\n",
              "    .dataframe tbody tr th {\n",
              "        vertical-align: top;\n",
              "    }\n",
              "\n",
              "    .dataframe thead th {\n",
              "        text-align: right;\n",
              "    }\n",
              "</style>\n",
              "<table border=\"1\" class=\"dataframe\">\n",
              "  <thead>\n",
              "    <tr style=\"text-align: right;\">\n",
              "      <th></th>\n",
              "      <th>count</th>\n",
              "    </tr>\n",
              "    <tr>\n",
              "      <th>Possui_Cartao</th>\n",
              "      <th></th>\n",
              "    </tr>\n",
              "  </thead>\n",
              "  <tbody>\n",
              "    <tr>\n",
              "      <th>1.0</th>\n",
              "      <td>75.537782</td>\n",
              "    </tr>\n",
              "    <tr>\n",
              "      <th>0.0</th>\n",
              "      <td>24.462218</td>\n",
              "    </tr>\n",
              "  </tbody>\n",
              "</table>\n",
              "</div><br><label><b>dtype:</b> float64</label>"
            ]
          },
          "metadata": {},
          "execution_count": 22
        }
      ]
    },
    {
      "cell_type": "code",
      "source": [
        "#Membro_Ativo\n",
        "contagem_membro = df['Membro_Ativo'].value_counts()\n",
        "\n",
        "porcentagem_membro = (contagem_membro / contagem_membro.sum()) * 100\n",
        "ax = contagem_membro.plot(kind='bar')\n",
        "plt.title('Gráfico de Barras para a Variável Membro_Ativo')\n",
        "plt.xlabel('Membro Ativo')\n",
        "plt.ylabel('Frequência')\n",
        "\n",
        "# Notamos que para a variável de possui cartão a grande maioria dos nossos clientes possui esse produto (cerca de 75% da nossa base)."
      ],
      "metadata": {
        "colab": {
          "base_uri": "https://localhost:8080/",
          "height": 497
        },
        "id": "meICvP4EpUWP",
        "outputId": "6832bc2d-3552-452f-d885-9f5ece989c55"
      },
      "execution_count": null,
      "outputs": [
        {
          "output_type": "execute_result",
          "data": {
            "text/plain": [
              "Text(0, 0.5, 'Frequência')"
            ]
          },
          "metadata": {},
          "execution_count": 23
        },
        {
          "output_type": "display_data",
          "data": {
            "text/plain": [
              "<Figure size 640x480 with 1 Axes>"
            ],
            "image/png": "[encoded data removed]"
          },
          "metadata": {}
        }
      ]
    },
    {
      "cell_type": "code",
      "source": [
        "contagem_membro = df['Membro_Ativo'].value_counts()\n",
        "(contagem_membro / contagem_membro.sum()) * 100\n",
        "\n",
        "# Já na variável de membro ativo notamos um balanceamento entre as duas classes.\n",
        "# É bem interessante pois apesar de ambas serem variáveis booleanas afetaram nossos modelos de forma diferente."
      ],
      "metadata": {
        "colab": {
          "base_uri": "https://localhost:8080/",
          "height": 178
        },
        "id": "hKtUVBnApaPO",
        "outputId": "444578cf-2210-4ec7-e377-2733af39523e"
      },
      "execution_count": null,
      "outputs": [
        {
          "output_type": "execute_result",
          "data": {
            "text/plain": [
              "Membro_Ativo\n",
              "0.0    50.250748\n",
              "1.0    49.749252\n",
              "Name: count, dtype: float64"
            ],
            "text/html": [
              "<div>\n",
              "<style scoped>\n",
              "    .dataframe tbody tr th:only-of-type {\n",
              "        vertical-align: middle;\n",
              "    }\n",
              "\n",
              "    .dataframe tbody tr th {\n",
              "        vertical-align: top;\n",
              "    }\n",
              "\n",
              "    .dataframe thead th {\n",
              "        text-align: right;\n",
              "    }\n",
              "</style>\n",
              "<table border=\"1\" class=\"dataframe\">\n",
              "  <thead>\n",
              "    <tr style=\"text-align: right;\">\n",
              "      <th></th>\n",
              "      <th>count</th>\n",
              "    </tr>\n",
              "    <tr>\n",
              "      <th>Membro_Ativo</th>\n",
              "      <th></th>\n",
              "    </tr>\n",
              "  </thead>\n",
              "  <tbody>\n",
              "    <tr>\n",
              "      <th>0.0</th>\n",
              "      <td>50.250748</td>\n",
              "    </tr>\n",
              "    <tr>\n",
              "      <th>1.0</th>\n",
              "      <td>49.749252</td>\n",
              "    </tr>\n",
              "  </tbody>\n",
              "</table>\n",
              "</div><br><label><b>dtype:</b> float64</label>"
            ]
          },
          "metadata": {},
          "execution_count": 24
        }
      ]
    },
    {
      "cell_type": "markdown",
      "source": [
        "* **Classe majoritária:** Quando temos o primeiro caso em que existe uma classe majoritária, ou seja nosso modelo pode tendenciar mais em direção a essa classe.\n",
        "\n",
        "* **Classes balanceadas:** no caso de variáveis balanceadas elas são geralmente mais interessantes para o aprendizado do modelo pois o modelo pode aprender com maior facilidade a relação dessas classes com o Churn (variável que tentaremos prever)."
      ],
      "metadata": {
        "id": "otgmIqJfpuI0"
      }
    },
    {
      "cell_type": "code",
      "source": [
        "contagem_churn = df['Churn'].value_counts()\n",
        "\n",
        "porcentagem_churn = (contagem_churn / contagem_churn.sum()) * 100\n",
        "ax = contagem_churn.plot(kind='bar')\n",
        "plt.title('Gráfico de Barras para a Variável Churn')\n",
        "plt.xlabel('Churn')\n",
        "plt.ylabel('Frequência')"
      ],
      "metadata": {
        "colab": {
          "base_uri": "https://localhost:8080/",
          "height": 484
        },
        "id": "NaZgocaYpvyB",
        "outputId": "74f0451e-4b3e-43a6-ce4f-3801a34d94a5"
      },
      "execution_count": null,
      "outputs": [
        {
          "output_type": "execute_result",
          "data": {
            "text/plain": [
              "Text(0, 0.5, 'Frequência')"
            ]
          },
          "metadata": {},
          "execution_count": 25
        },
        {
          "output_type": "display_data",
          "data": {
            "text/plain": [
              "<Figure size 640x480 with 1 Axes>"
            ],
            "image/png": "[encoded data removed]"
          },
          "metadata": {}
        }
      ]
    },
    {
      "cell_type": "markdown",
      "source": [
        "Nós identificamos então que a variável principal também tem um desbalanceamento. Esse ponto é muito importante e no módulo Balanceamento, Variáveis Categóricas - A Terceira etapa Pré Modelagem aprenderemos como trabalhar com esses casos e obter o melhor resultado possível. Nessa etapa apenas estamos identificando."
      ],
      "metadata": {
        "id": "hZRGTKVyp7LC"
      }
    },
    {
      "cell_type": "markdown",
      "source": [
        "**Passo 4:**\n",
        "\n",
        "Analisando as variáveis categóricas.\n",
        "\n",
        "Também necessitamos verificar de forma individualmente qual o comportamento da distribuição das variáveis categóricas."
      ],
      "metadata": {
        "id": "hXi-JCzwqAeZ"
      }
    },
    {
      "cell_type": "code",
      "source": [
        "# Calculando as porcentagens\n",
        "contagem = df['Pais'].value_counts()\n",
        "porcentagem = (contagem / contagem.sum()) * 100\n",
        "\n",
        "\n",
        "ax = contagem.plot(kind='bar')\n",
        "\n",
        "# Adicionando pora procentagem nas barras\n",
        "for i, v in enumerate(contagem):\n",
        "    ax.text(i, v + 1, f'{porcentagem[i]:.2f}%', ha='center')\n",
        "plt.title('Gráfico de Barras para a Variável Pais')\n",
        "plt.xlabel('Pais')\n",
        "plt.ylabel('Frequência')\n",
        "\n",
        "plt.show()\n",
        "\n",
        "# É possível identificarmos que a maioria dos nossos clientes estão cituados na França.\n",
        "# Nenhuma das variáveis tem uma % muito baixa, o que seria preocupante para previsão."
      ],
      "metadata": {
        "colab": {
          "base_uri": "https://localhost:8080/",
          "height": 583
        },
        "id": "JJBGFyg6p0Ar",
        "outputId": "71c3fb63-9e25-478e-d159-2a46cc8e4637"
      },
      "execution_count": null,
      "outputs": [
        {
          "output_type": "stream",
          "name": "stderr",
          "text": [
            "/tmp/ipython-input-2699513189.py:10: FutureWarning: Series.__getitem__ treating keys as positions is deprecated. In a future version, integer keys will always be treated as labels (consistent with DataFrame behavior). To access a value by position, use `ser.iloc[pos]`\n",
            "  ax.text(i, v + 1, f'{porcentagem[i]:.2f}%', ha='center')\n"
          ]
        },
        {
          "output_type": "display_data",
          "data": {
            "text/plain": [
              "<Figure size 640x480 with 1 Axes>"
            ],
            "image/png": "[encoded data removed]"
          },
          "metadata": {}
        }
      ]
    },
    {
      "cell_type": "code",
      "source": [
        "contagem = df['Genero'].value_counts()\n",
        "porcentagem = (contagem / contagem.sum()) * 100\n",
        "\n",
        "ax = contagem.plot(kind='bar')\n",
        "\n",
        "for i, v in enumerate(contagem):\n",
        "    ax.text(i, v + 1, f'{porcentagem[i]:.2f}%', ha='center')\n",
        "plt.title('Gráfico de Barras para a Variável Genero')\n",
        "plt.xlabel('Genero')\n",
        "plt.ylabel('Frequência')\n",
        "\n",
        "plt.show()\n",
        "# A questão de genero é bem equilibrada, temos clientes homens e mulheres."
      ],
      "metadata": {
        "colab": {
          "base_uri": "https://localhost:8080/",
          "height": 563
        },
        "id": "xzjk6uFLqaBo",
        "outputId": "e0352681-0b66-4482-f8cd-523aa9f53315"
      },
      "execution_count": null,
      "outputs": [
        {
          "output_type": "stream",
          "name": "stderr",
          "text": [
            "/tmp/ipython-input-3660445229.py:7: FutureWarning: Series.__getitem__ treating keys as positions is deprecated. In a future version, integer keys will always be treated as labels (consistent with DataFrame behavior). To access a value by position, use `ser.iloc[pos]`\n",
            "  ax.text(i, v + 1, f'{porcentagem[i]:.2f}%', ha='center')\n"
          ]
        },
        {
          "output_type": "display_data",
          "data": {
            "text/plain": [
              "<Figure size 640x480 with 1 Axes>"
            ],
            "image/png": "[encoded data removed]"
          },
          "metadata": {}
        }
      ]
    },
    {
      "cell_type": "markdown",
      "source": [
        "Vamos pontuar os principais insights que retiramos dessa primeira análise univariada:\n",
        "\n",
        "* Tanto a variável balanco quanto Qtd_Produtos possuem muitos outliers.\n",
        "\n",
        "* A grande maioria dos nossos clientes possui cartão de crédito.\n",
        "\n",
        "* Temos uma quantidade muito parecida de membros ativos e não ativos.\n",
        "\n",
        "* A maioria dos nossos clientes está cituado na França.\n",
        "\n",
        "* A proporção de mulheres e homens é bem semelhante."
      ],
      "metadata": {
        "id": "KdwrgWZDqoaE"
      }
    }
  ]
}